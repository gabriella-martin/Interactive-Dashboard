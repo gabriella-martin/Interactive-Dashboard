{
 "cells": [
  {
   "cell_type": "code",
   "execution_count": null,
   "metadata": {},
   "outputs": [],
   "source": [
    "# conda activate dash; pip install holoviews -U; cd Interactive-Dashboard ; panel serve Visualisation.ipynb\n",
    "# git add Visualisation.ipynb\n",
    "\n",
    "import holoviews as hv\n",
    "import hvplot.pandas\n",
    "import panel as pn\n",
    "import pandas as pd\n",
    "import requests\n",
    "\n",
    "from datetime import datetime\n",
    "\n",
    "pn.extension('tabulator')\n",
    "\n",
    "df = pd.read_csv('Database.csv')\n",
    "idf = df.interactive()\n",
    "\n",
    "class MainGraphs:\n",
    "\n",
    "    def __init__(self):\n",
    "        self.goal_lines = [(hv.HLine(100)).opts(color='pink', line_dash='dashed'), (hv.HLine(8)).opts(color='pink', line_dash='dashed'), (hv.HLine(10000)).opts(color='pink', line_dash='dashed'), \n",
    "        (hv.HLine(2)).opts(color='pink', line_dash='dashed'), (hv.HLine(550)).opts(color='pink', line_dash='dashed')]\n",
    "        self.full_selections = pn.widgets.Select(groups={'Health': ['Steps', 'Steps Score', 'Active Cals',\n",
    "        'Active Cals Score', 'Diet'], 'Productivity': ['Work Hours', 'Work Score', 'Reading Hours', 'Reading Score'],\n",
    "        'Personal': ['Cleaning', 'Dogs', 'Self-Care']})\n",
    "        self.category_selections = pn.widgets.RadioButtonGroup(options=['Overall', 'Health', 'Productivity', 'Personal'])\n",
    "        self.datapoints = len(df)\n",
    "\n",
    "class SideBar:"
   ]
  }
 ],
 "metadata": {
  "kernelspec": {
   "display_name": "dash",
   "language": "python",
   "name": "python3"
  },
  "language_info": {
   "name": "python",
   "version": "3.10.8 (main, Nov 24 2022, 08:09:04) [Clang 14.0.6 ]"
  },
  "orig_nbformat": 4,
  "vscode": {
   "interpreter": {
    "hash": "9ac1cb0c6c3dff54f1d5f6355507255050252716e4b191f674fca8060d7b6dac"
   }
  }
 },
 "nbformat": 4,
 "nbformat_minor": 2
}
