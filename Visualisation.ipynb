{
 "cells": [
  {
   "cell_type": "code",
   "execution_count": null,
   "metadata": {},
   "outputs": [],
   "source": [
    "# conda activate dash; pip install holoviews -U; cd Interactive-Dashboard ; panel serve Visualisation.ipynb\n",
    "\n",
    "import holoviews as hv\n",
    "import hvplot.pandas\n",
    "import panel as pn\n",
    "import pandas as pd\n",
    "import requests\n",
    "\n",
    "from datetime import datetime"
   ]
  }
 ],
 "metadata": {
  "kernelspec": {
   "display_name": "dash",
   "language": "python",
   "name": "python3"
  },
  "language_info": {
   "name": "python",
   "version": "3.10.8 (main, Nov 24 2022, 08:09:04) [Clang 14.0.6 ]"
  },
  "orig_nbformat": 4,
  "vscode": {
   "interpreter": {
    "hash": "9ac1cb0c6c3dff54f1d5f6355507255050252716e4b191f674fca8060d7b6dac"
   }
  }
 },
 "nbformat": 4,
 "nbformat_minor": 2
}
